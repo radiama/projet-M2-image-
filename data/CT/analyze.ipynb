{
 "cells": [
  {
   "cell_type": "code",
   "execution_count": 15,
   "metadata": {},
   "outputs": [
    {
     "name": "stdout",
     "output_type": "stream",
     "text": [
      "phantom_99.png\n",
      "phantom_149.png\n",
      "phantom_249.png\n",
      "phantom_0.png\n",
      "phantom_199.png\n",
      "phantom_49.png\n",
      "6\n"
     ]
    }
   ],
   "source": [
    "import pathlib\n",
    "import numpy as np\n",
    "from PIL import Image\n",
    "\n",
    "mode = 'validation'\n",
    "data_path = f'/home/goujon/ACR_vs_CRR/mayo_data_arranged_patientwise/{mode}/Phantom'\n",
    "\n",
    "i = 0\n",
    "ntot = 0\n",
    "# remove all files in the directory\n",
    "for file in pathlib.Path(mode).iterdir():\n",
    "    if file.suffix == '.png':\n",
    "        file.unlink()\n",
    "# loop over all files in the directory\n",
    "for file in pathlib.Path(data_path).iterdir():\n",
    "    # check if the file is a .npy file\n",
    "\n",
    "    if file.suffix == '.npy':\n",
    "        if mode == 'validation' or (mode == 'train' and i%20==0):\n",
    "            im = Image.fromarray(255*np.load(file))\n",
    "            im = im.convert(\"L\")\n",
    "            ntot += 1\n",
    "            fn = str(file.with_suffix(\".png\")).split(\"/\")[-1]\n",
    "            print(fn)\n",
    "\n",
    "            im.save(f'{mode}/{fn}')\n",
    "        i += 1\n",
    "print(ntot)"
   ]
  },
  {
   "cell_type": "code",
   "execution_count": null,
   "metadata": {},
   "outputs": [],
   "source": []
  }
 ],
 "metadata": {
  "kernelspec": {
   "display_name": "learning",
   "language": "python",
   "name": "python3"
  },
  "language_info": {
   "codemirror_mode": {
    "name": "ipython",
    "version": 3
   },
   "file_extension": ".py",
   "mimetype": "text/x-python",
   "name": "python",
   "nbconvert_exporter": "python",
   "pygments_lexer": "ipython3",
   "version": "3.9.16"
  },
  "orig_nbformat": 4
 },
 "nbformat": 4,
 "nbformat_minor": 2
}
