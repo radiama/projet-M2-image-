{
 "cells": [
  {
   "cell_type": "code",
   "execution_count": 2,
   "metadata": {},
   "outputs": [],
   "source": [
    "import os\n",
    "import numpy as np\n",
    "import torch\n",
    "from PIL import Image"
   ]
  },
  {
   "cell_type": "code",
   "execution_count": 9,
   "metadata": {},
   "outputs": [],
   "source": [
    "\n",
    "Data_dir = ['/home/bohra/MRI_exps/simdata/multicoil_acc_4_cf_0.08_noisesd_0.002/pd/train_images/', '/home/bohra/MRI_exps/simdata/multicoil_acc_4_cf_0.08_noisesd_0.002/pdfs/train_images/']\n",
    "\n",
    "for data_dir in Data_dir:\n",
    "    # list of folders\n",
    "    folders = os.listdir(data_dir)\n",
    "\n",
    "    for f in folders:\n",
    "        x = 255*torch.load(data_dir + f + '/x_crop.pt')\n",
    "        im = Image.fromarray(x.squeeze().numpy()).convert('L')\n",
    "        im.save(\"./train/\" + f + \".png\")\n",
    "\n",
    "\n"
   ]
  },
  {
   "cell_type": "code",
   "execution_count": 8,
   "metadata": {},
   "outputs": [],
   "source": [
    "Data_dir = ['/home/bohra/MRI_exps/simdata/multicoil_acc_4_cf_0.08_noisesd_0.002/pdfs/val_images/', '/home/bohra/MRI_exps/simdata/multicoil_acc_4_cf_0.08_noisesd_0.002/pd/val_images/']\n",
    "\n",
    "for data_dir in Data_dir:\n",
    "    # list of folders\n",
    "    folders = os.listdir(data_dir)\n",
    "\n",
    "    for f in folders:\n",
    "        x = 255*torch.load(data_dir + f + '/x_crop.pt')\n",
    "        im = Image.fromarray(x.squeeze().numpy()).convert('L')\n",
    "        im.save(\"./validation/\" + f + \".png\")"
   ]
  },
  {
   "cell_type": "code",
   "execution_count": 20,
   "metadata": {},
   "outputs": [],
   "source": [
    "data_dir = '/home/bohra/MRI_exps/simdata/multicoil_acc_4_cf_0.08_noisesd_0.0/pdfs/validation_images/'\n",
    "\n",
    "# list of folders\n",
    "folders = os.listdir(data_dir)\n",
    "\n",
    "for f in folders:\n",
    "    x = 255*torch.load(data_dir + f + '/x_crop.pt')\n",
    "    im = Image.fromarray(x.squeeze().numpy()).convert('L')\n",
    "    im.save(\"./validation/\" + f + \".png\")"
   ]
  },
  {
   "cell_type": "code",
   "execution_count": 4,
   "metadata": {},
   "outputs": [
    {
     "data": {
      "text/plain": [
       "['file1002436',\n",
       " 'file1001997',\n",
       " 'file1001825',\n",
       " 'file1001959',\n",
       " 'file1002412',\n",
       " 'file1002159',\n",
       " 'file1001851',\n",
       " 'file1002389',\n",
       " 'file1001499',\n",
       " 'file1002002',\n",
       " 'file1001440',\n",
       " 'file1002377',\n",
       " 'file1001955',\n",
       " 'file1002380',\n",
       " 'file1001968',\n",
       " 'file1002538',\n",
       " 'file1001643',\n",
       " 'file1001480',\n",
       " 'file1001798',\n",
       " 'file1001655',\n",
       " 'file1001850',\n",
       " 'file1002404',\n",
       " 'file1001689',\n",
       " 'file1001834',\n",
       " 'file1001450',\n",
       " 'file1002067',\n",
       " 'file1002340',\n",
       " 'file1001651',\n",
       " 'file1001703',\n",
       " 'file1001818',\n",
       " 'file1001726',\n",
       " 'file1002515',\n",
       " 'file1001557',\n",
       " 'file1001566',\n",
       " 'file1002007',\n",
       " 'file1002214',\n",
       " 'file1002145',\n",
       " 'file1001533',\n",
       " 'file1002451',\n",
       " 'file1001984',\n",
       " 'file1001916',\n",
       " 'file1001862',\n",
       " 'file1002155',\n",
       " 'file1001938']"
      ]
     },
     "execution_count": 4,
     "metadata": {},
     "output_type": "execute_result"
    }
   ],
   "source": [
    "folders"
   ]
  },
  {
   "cell_type": "code",
   "execution_count": null,
   "metadata": {},
   "outputs": [],
   "source": []
  }
 ],
 "metadata": {
  "kernelspec": {
   "display_name": "learning",
   "language": "python",
   "name": "python3"
  },
  "language_info": {
   "codemirror_mode": {
    "name": "ipython",
    "version": 3
   },
   "file_extension": ".py",
   "mimetype": "text/x-python",
   "name": "python",
   "nbconvert_exporter": "python",
   "pygments_lexer": "ipython3",
   "version": "3.9.16"
  },
  "orig_nbformat": 4
 },
 "nbformat": 4,
 "nbformat_minor": 2
}
